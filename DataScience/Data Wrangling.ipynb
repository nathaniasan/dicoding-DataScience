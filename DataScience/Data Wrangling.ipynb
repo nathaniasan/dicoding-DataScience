{
 "cells": [
  {
   "cell_type": "code",
   "execution_count": 1,
   "id": "3866f7df",
   "metadata": {},
   "outputs": [],
   "source": [
    "import pandas as pd\n",
    "import numpy as np"
   ]
  },
  {
   "cell_type": "code",
   "execution_count": 2,
   "id": "22705136",
   "metadata": {},
   "outputs": [],
   "source": [
    "df = pd.read_csv(\"D:\\ID-CAMP2023\\Dataset\\Bali Popular Destination for Tourist 2022 - Sheet1.csv\")"
   ]
  },
  {
   "cell_type": "code",
   "execution_count": 5,
   "id": "b9b40771",
   "metadata": {},
   "outputs": [
    {
     "data": {
      "text/html": [
       "<div>\n",
       "<style scoped>\n",
       "    .dataframe tbody tr th:only-of-type {\n",
       "        vertical-align: middle;\n",
       "    }\n",
       "\n",
       "    .dataframe tbody tr th {\n",
       "        vertical-align: top;\n",
       "    }\n",
       "\n",
       "    .dataframe thead th {\n",
       "        text-align: right;\n",
       "    }\n",
       "</style>\n",
       "<table border=\"1\" class=\"dataframe\">\n",
       "  <thead>\n",
       "    <tr style=\"text-align: right;\">\n",
       "      <th></th>\n",
       "      <th>Place</th>\n",
       "      <th>Location</th>\n",
       "      <th>Coordinate</th>\n",
       "      <th>Google Maps Rating</th>\n",
       "      <th>Google Reviews (Count)</th>\n",
       "      <th>Source</th>\n",
       "      <th>Description</th>\n",
       "      <th>Tourism/Visitor Fee (approx in USD)</th>\n",
       "    </tr>\n",
       "  </thead>\n",
       "  <tbody>\n",
       "    <tr>\n",
       "      <th>0</th>\n",
       "      <td>Tanah Lot</td>\n",
       "      <td>Beraban, Kec. Kediri, Kabupaten Tabanan, Bali ...</td>\n",
       "      <td>8.6212° S, 115.0868° E</td>\n",
       "      <td>4.6</td>\n",
       "      <td>75899</td>\n",
       "      <td>https://www.google.com/maps/place/Tanah+Lot/@-...</td>\n",
       "      <td>is a rock formation off the Indonesian island ...</td>\n",
       "      <td>Yes, entrance tickets cost 20,000 Rupiah for I...</td>\n",
       "    </tr>\n",
       "    <tr>\n",
       "      <th>1</th>\n",
       "      <td>Mount Batur</td>\n",
       "      <td>Bangli Regency, Bali, Indonesia</td>\n",
       "      <td>8°14′20″S 115°22′39″E</td>\n",
       "      <td>4.5</td>\n",
       "      <td>2580</td>\n",
       "      <td>https://www.google.com/maps/place/Mt+Batur/@-8...</td>\n",
       "      <td>Mount Batur (Gunung Batur) is an active volcan...</td>\n",
       "      <td>Yes, The Mount Batur trekking price is around ...</td>\n",
       "    </tr>\n",
       "    <tr>\n",
       "      <th>2</th>\n",
       "      <td>Uluwatu Temple</td>\n",
       "      <td>Uluwatu (South Kuta, Badung)</td>\n",
       "      <td>8.8291° S, 115.0849° E</td>\n",
       "      <td>4.6</td>\n",
       "      <td>28800</td>\n",
       "      <td>https://www.google.com/maps/place/Uluwatu+Temp...</td>\n",
       "      <td>The temple is regarded as one of the sad kahya...</td>\n",
       "      <td>Yes, The Uluwatu Temple Bali entrance fee is I...</td>\n",
       "    </tr>\n",
       "    <tr>\n",
       "      <th>3</th>\n",
       "      <td>Ubud Monkey Forest</td>\n",
       "      <td>Jl. Monkey Forest, Ubud, Kecamatan Ubud, Kabup...</td>\n",
       "      <td>8.5194° S, 115.2606° E</td>\n",
       "      <td>4.5</td>\n",
       "      <td>36099</td>\n",
       "      <td>https://www.google.com/maps/place/Sacred+Monke...</td>\n",
       "      <td>Mandala Suci Wenara Wana, or well known as Ubu...</td>\n",
       "      <td>Yes, Visit to the Ubud Monkey Forest are subje...</td>\n",
       "    </tr>\n",
       "    <tr>\n",
       "      <th>4</th>\n",
       "      <td>Goa Gajah</td>\n",
       "      <td>Gianyar Regency, Bali</td>\n",
       "      <td>8.5069° S, 115.2625° E</td>\n",
       "      <td>4.2</td>\n",
       "      <td>6683</td>\n",
       "      <td>https://www.google.com/maps/place/Goa+Gajah/@-...</td>\n",
       "      <td>Goa Gajah, or Elephant Cave, is located on the...</td>\n",
       "      <td>Yes, Adult 50.000 IDR ($3.4 USD), Child 25.000...</td>\n",
       "    </tr>\n",
       "  </tbody>\n",
       "</table>\n",
       "</div>"
      ],
      "text/plain": [
       "                Place                                           Location  \\\n",
       "0           Tanah Lot  Beraban, Kec. Kediri, Kabupaten Tabanan, Bali ...   \n",
       "1         Mount Batur                    Bangli Regency, Bali, Indonesia   \n",
       "2      Uluwatu Temple                       Uluwatu (South Kuta, Badung)   \n",
       "3  Ubud Monkey Forest  Jl. Monkey Forest, Ubud, Kecamatan Ubud, Kabup...   \n",
       "4           Goa Gajah                              Gianyar Regency, Bali   \n",
       "\n",
       "               Coordinate  Google Maps Rating  Google Reviews (Count)  \\\n",
       "0  8.6212° S, 115.0868° E                 4.6                   75899   \n",
       "1   8°14′20″S 115°22′39″E                 4.5                    2580   \n",
       "2  8.8291° S, 115.0849° E                 4.6                   28800   \n",
       "3  8.5194° S, 115.2606° E                 4.5                   36099   \n",
       "4  8.5069° S, 115.2625° E                 4.2                    6683   \n",
       "\n",
       "                                              Source  \\\n",
       "0  https://www.google.com/maps/place/Tanah+Lot/@-...   \n",
       "1  https://www.google.com/maps/place/Mt+Batur/@-8...   \n",
       "2  https://www.google.com/maps/place/Uluwatu+Temp...   \n",
       "3  https://www.google.com/maps/place/Sacred+Monke...   \n",
       "4  https://www.google.com/maps/place/Goa+Gajah/@-...   \n",
       "\n",
       "                                         Description  \\\n",
       "0  is a rock formation off the Indonesian island ...   \n",
       "1  Mount Batur (Gunung Batur) is an active volcan...   \n",
       "2  The temple is regarded as one of the sad kahya...   \n",
       "3  Mandala Suci Wenara Wana, or well known as Ubu...   \n",
       "4  Goa Gajah, or Elephant Cave, is located on the...   \n",
       "\n",
       "                 Tourism/Visitor Fee (approx in USD)  \n",
       "0  Yes, entrance tickets cost 20,000 Rupiah for I...  \n",
       "1  Yes, The Mount Batur trekking price is around ...  \n",
       "2  Yes, The Uluwatu Temple Bali entrance fee is I...  \n",
       "3  Yes, Visit to the Ubud Monkey Forest are subje...  \n",
       "4  Yes, Adult 50.000 IDR ($3.4 USD), Child 25.000...  "
      ]
     },
     "execution_count": 5,
     "metadata": {},
     "output_type": "execute_result"
    }
   ],
   "source": [
    "df.head(5)"
   ]
  },
  {
   "cell_type": "code",
   "execution_count": 8,
   "id": "2359eeae",
   "metadata": {},
   "outputs": [
    {
     "data": {
      "text/plain": [
       "Place                                  34\n",
       "Location                               34\n",
       "Coordinate                             34\n",
       "Google Maps Rating                     34\n",
       "Google Reviews (Count)                 34\n",
       "Source                                 34\n",
       "Description                            34\n",
       "Tourism/Visitor Fee (approx in USD)    34\n",
       "dtype: int64"
      ]
     },
     "execution_count": 8,
     "metadata": {},
     "output_type": "execute_result"
    }
   ],
   "source": [
    "df.count()"
   ]
  },
  {
   "cell_type": "code",
   "execution_count": 9,
   "id": "c4f8b41f",
   "metadata": {
    "collapsed": true
   },
   "outputs": [
    {
     "data": {
      "text/plain": [
       "array(['Beraban, Kec. Kediri, Kabupaten Tabanan, Bali 82121',\n",
       "       'Bangli Regency, Bali, Indonesia', 'Uluwatu (South Kuta, Badung)',\n",
       "       'Jl. Monkey Forest, Ubud, Kecamatan Ubud, Kabupaten Gianyar, Bali 80571',\n",
       "       'Gianyar Regency, Bali',\n",
       "       'Village, Jl. Jatiluwih Kawan No.Desa, Jatiluwih, Kec. Penebel, Kabupaten Tabanan, Bali 82152',\n",
       "       'Jl. Raya Tegallalang, Tegallalang, Kec. Tegallalang, Kabupaten Gianyar, Bali 80561',\n",
       "       'Danau Beratan, Candikuning, Kec. Baturiti, Kabupaten Tabanan, Bali 82191',\n",
       "       'Kuta, Badung Regency, Bali',\n",
       "       'Besakih countryside, Rendang sub district, Karangasem regency, Bali',\n",
       "       'Kuta District, Badung Regency, southern Bali',\n",
       "       'Jl. Pura Telaga Mas Lempuyang, Tri Buana, Kec. Abang, Kabupaten Karangasem, Bali 80852',\n",
       "       'Karangasem regency in East Bali',\n",
       "       'Jl. Tirta, Manukaya, Kec. Tampaksiring, Kabupaten Gianyar, Bali 80552',\n",
       "       'Buleleng Regency, Bali, Indonesia',\n",
       "       'Uluwatu St, Ungasan, South Kuta, Badung Regency, Bali 80364',\n",
       "       'Jl. Raya Singapadu, Singapadu, Kec. Sukawati, Kabupaten Gianyar, Bali 80582',\n",
       "       'Jl. Serma Cok Ngurah Gambir Singapadu, Batubulan, Kec. Sukawati, Kabupaten Gianyar, Bali 80582',\n",
       "       'Jalan Raya Abang Desa Adat, Ababi, Kec. Abang, Kabupaten Karangasem, Bali 80852',\n",
       "       'Jl. Ir. Sutami, Kemenuh, Kec. Sukawati, Kabupaten Gianyar, Bali 80581',\n",
       "       'Jl. Dewi Saraswati No.7, Bongkasa Pertiwi, Kec. Abiansemal, Kabupaten Badung, Bali 80352',\n",
       "       'Jl. Kartika Plaza, Tuban, Kec. Kuta, Kabupaten Badung, Bali 80361',\n",
       "       'Kelusa, Payangan, Jl. Raya Campuhan, Sayan, Kecamatan Ubud, Kabupaten Gianyar, Bali 80571',\n",
       "       'Jl. Prof. Dr. Ida Bagus Mantra No.km 19, Serongga, Kec. Gianyar, Kabupaten Gianyar, Bali 80551',\n",
       "       'Jl. Raya Puputan No.142, Panjer, Denpasar Selatan, Kota Denpasar, Bali 80234',\n",
       "       'Jalan Raya Sukawati, Sukawati, Kec. Sukawati, Kabupaten Gianyar, Bali 80582',\n",
       "       'Ujung Water Palace, Tumbu, Kec. Karangasem, Kabupaten Karangasem, Bali 80811',\n",
       "       'Jl. Raya Denpasar Bedugul km. 36, Mekarsari, Baturiti, Mekarsari, Tabanan, Mekarsari, Kec. Baturiti, Kabupaten Tabanan, Bali 82191',\n",
       "       'Jl. Penglipuran, Kubu, Kec. Bangli, Kabupaten Bangli, Bali 80611',\n",
       "       'Jalan Banjar, Banjar, Kec. Banjar, Kabupaten Buleleng, Bali 81152',\n",
       "       'Jl. Raya Pujung Kaja, Sebatu, Kec. Tegallalang, Kabupaten Gianyar, Bali 80561',\n",
       "       'CFX9+9GG, Jl. Raya Goa Lawah, Pesinggahan, Kec. Dawan, Kabupaten Klungkung, Bali 80761',\n",
       "       'Jl. Pantai Batu Bolong, Canggu, Kec. Kuta Utara, Kabupaten Badung, Bali'],\n",
       "      dtype=object)"
      ]
     },
     "execution_count": 9,
     "metadata": {},
     "output_type": "execute_result"
    }
   ],
   "source": [
    "df['Location'].unique()"
   ]
  },
  {
   "cell_type": "code",
   "execution_count": null,
   "id": "b60885a5",
   "metadata": {},
   "outputs": [],
   "source": []
  }
 ],
 "metadata": {
  "kernelspec": {
   "display_name": "Python 3 (ipykernel)",
   "language": "python",
   "name": "python3"
  },
  "language_info": {
   "codemirror_mode": {
    "name": "ipython",
    "version": 3
   },
   "file_extension": ".py",
   "mimetype": "text/x-python",
   "name": "python",
   "nbconvert_exporter": "python",
   "pygments_lexer": "ipython3",
   "version": "3.9.17"
  }
 },
 "nbformat": 4,
 "nbformat_minor": 5
}
